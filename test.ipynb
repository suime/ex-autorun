{
 "cells": [
  {
   "cell_type": "markdown",
   "metadata": {},
   "source": [
    "# EX 강의 자동수강 프로그램\n",
    "\n",
    "- 버전 :\n",
    "- 멀티캠퍼스 :\n",
    "- 크롬 드라이버 버전 :\n"
   ]
  },
  {
   "cell_type": "code",
   "execution_count": 6,
   "metadata": {},
   "outputs": [],
   "source": [
    "import time\n",
    "import sys\n",
    "import os\n",
    "from selenium import webdriver\n",
    "from selenium.webdriver.common.by import By\n",
    "from selenium.webdriver.edge.service import Service\n",
    "from selenium.webdriver.edge.options import Options\n",
    "from selenium.webdriver.support.ui import WebDriverWait\n",
    "from webdriver_manager.microsoft import EdgeChromiumDriverManager\n",
    "\n",
    "\n",
    "def setup_driver(headless=False):\n",
    "    \"\"\"셀레니움 웹드라이버 설정\"\"\"\n",
    "    edge_options = Options()\n",
    "    if headless:\n",
    "        edge_options.add_argument(\"--headless\")\n",
    "    edge_options.add_argument(\"--no-sandbox\")\n",
    "    edge_options.add_argument(\"--disable-dev-shm-usage\")\n",
    "    edge_options.add_argument(\"--disable-notifications\")\n",
    "    edge_options.add_argument(\"--user-agent=Mozilla/5.0 (Windows NT 10.0; Win64; x64) AppleWebKit/537.36 (KHTML, like Gecko) Chrome/90.0.4430.212 Safari/537.36\")\n",
    "    \n",
    "    edge_bin_path = r\"C:\\Program Files (x86)\\Microsoft\\Edge\\Application\\msedge.exe\"\n",
    "\n",
    "    # edge driver : \"https://msedgedriver.azureedge.net/136.0.3240.50/edgedriver_win64.zip\"\n",
    "    edge_options.binary_location = edge_bin_path\n",
    "    driver_path = os.path.join(os.getenv(\"USERPROFILE\"), \".local\", \"driver\",\"msedgedriver.exe\")\n",
    "\n",
    "    service = Service(driver_path)\n",
    "    # service = Service(r\"C:\\Users\\dbro\\.cache\\selenium\\chromedriver\\win64\\135.0.7049.114\\chromedriver.exe\")\n",
    "    driver = webdriver.Chrome(service=service, options=edge_options)\n",
    "    return driver\n",
    "\n",
    "\n",
    "driver = setup_driver()"
   ]
  },
  {
   "cell_type": "code",
   "execution_count": 7,
   "metadata": {},
   "outputs": [],
   "source": [
    "# 수강 사이트 접속 \n",
    "url = \"https://lc.multicampus.com/ex/?#/home\"\n",
    "driver.get(url)"
   ]
  },
  {
   "cell_type": "code",
   "execution_count": 18,
   "metadata": {},
   "outputs": [
    {
     "ename": "NoSuchElementException",
     "evalue": "Message: no such element: Unable to locate element: {\"method\":\"css selector\",\"selector\":\"input[placeholder='ex사번']\"}\n  (Session info: MicrosoftEdge=136.0.3240.50); For documentation on this error, please visit: https://www.selenium.dev/documentation/webdriver/troubleshooting/errors#no-such-element-exception\nStacktrace:\n\tGetHandleVerifier [0x00007FF79F7402E5+25029]\n\t(No symbol) [0x00007FF79F6952F0]\n\tMicrosoft::Applications::Events::EventProperty::to_string [0x00007FF79F9BD73A+1947706]\n\t(No symbol) [0x00007FF79F4B7D88]\n\t(No symbol) [0x00007FF79F4B804B]\n\t(No symbol) [0x00007FF79F4F8CA7]\n\t(No symbol) [0x00007FF79F4D90CF]\n\t(No symbol) [0x00007FF79F4AE15D]\n\t(No symbol) [0x00007FF79F4F6698]\n\t(No symbol) [0x00007FF79F4D8DF3]\n\t(No symbol) [0x00007FF79F4AD6A6]\n\t(No symbol) [0x00007FF79F4ACBB3]\n\t(No symbol) [0x00007FF79F4AD4D3]\n\t(No symbol) [0x00007FF79F5A638D]\n\t(No symbol) [0x00007FF79F5B3F2F]\n\t(No symbol) [0x00007FF79F5AC91F]\n\tMicrosoft::Applications::Events::EventProperty::to_string [0x00007FF79F8276EA+284650]\n\t(No symbol) [0x00007FF79F6A2C81]\n\t(No symbol) [0x00007FF79F69B724]\n\t(No symbol) [0x00007FF79F69B873]\n\t(No symbol) [0x00007FF79F68D4B6]\n\tBaseThreadInitThunk [0x00007FFE075A7374+20]\n\tRtlUserThreadStart [0x00007FFE095BCC91+33]\n",
     "output_type": "error",
     "traceback": [
      "\u001b[31m---------------------------------------------------------------------------\u001b[39m",
      "\u001b[31mNoSuchElementException\u001b[39m                    Traceback (most recent call last)",
      "\u001b[36mCell\u001b[39m\u001b[36m \u001b[39m\u001b[32mIn[18]\u001b[39m\u001b[32m, line 11\u001b[39m\n\u001b[32m      8\u001b[39m \u001b[38;5;66;03m# 로그인 시도 \u001b[39;00m\n\u001b[32m      9\u001b[39m \u001b[38;5;28;01mtry\u001b[39;00m:\n\u001b[32m---> \u001b[39m\u001b[32m11\u001b[39m     id_input = \u001b[43mdriver\u001b[49m\u001b[43m.\u001b[49m\u001b[43mfind_element\u001b[49m\u001b[43m(\u001b[49m\u001b[43mBy\u001b[49m\u001b[43m.\u001b[49m\u001b[43mCSS_SELECTOR\u001b[49m\u001b[43m,\u001b[49m\u001b[43m \u001b[49m\u001b[33;43m\"\u001b[39;49m\u001b[33;43minput[placeholder=\u001b[39;49m\u001b[33;43m'\u001b[39;49m\u001b[33;43mex사번\u001b[39;49m\u001b[33;43m'\u001b[39;49m\u001b[33;43m]\u001b[39;49m\u001b[33;43m\"\u001b[39;49m\u001b[43m)\u001b[49m\n\u001b[32m     12\u001b[39m     id_input.clear()\n\u001b[32m     13\u001b[39m     \u001b[38;5;66;03m# id_input.send_keys(ex_id)\u001b[39;00m\n",
      "\u001b[36mFile \u001b[39m\u001b[32mc:\\Users\\Administrator\\ghq\\github.com\\suime\\ex-autorun\\.venv\\Lib\\site-packages\\selenium\\webdriver\\remote\\webdriver.py:898\u001b[39m, in \u001b[36mWebDriver.find_element\u001b[39m\u001b[34m(self, by, value)\u001b[39m\n\u001b[32m    895\u001b[39m         \u001b[38;5;28;01mraise\u001b[39;00m NoSuchElementException(\u001b[33mf\u001b[39m\u001b[33m\"\u001b[39m\u001b[33mCannot locate relative element with: \u001b[39m\u001b[38;5;132;01m{\u001b[39;00mby.root\u001b[38;5;132;01m}\u001b[39;00m\u001b[33m\"\u001b[39m)\n\u001b[32m    896\u001b[39m     \u001b[38;5;28;01mreturn\u001b[39;00m elements[\u001b[32m0\u001b[39m]\n\u001b[32m--> \u001b[39m\u001b[32m898\u001b[39m \u001b[38;5;28;01mreturn\u001b[39;00m \u001b[38;5;28;43mself\u001b[39;49m\u001b[43m.\u001b[49m\u001b[43mexecute\u001b[49m\u001b[43m(\u001b[49m\u001b[43mCommand\u001b[49m\u001b[43m.\u001b[49m\u001b[43mFIND_ELEMENT\u001b[49m\u001b[43m,\u001b[49m\u001b[43m \u001b[49m\u001b[43m{\u001b[49m\u001b[33;43m\"\u001b[39;49m\u001b[33;43musing\u001b[39;49m\u001b[33;43m\"\u001b[39;49m\u001b[43m:\u001b[49m\u001b[43m \u001b[49m\u001b[43mby\u001b[49m\u001b[43m,\u001b[49m\u001b[43m \u001b[49m\u001b[33;43m\"\u001b[39;49m\u001b[33;43mvalue\u001b[39;49m\u001b[33;43m\"\u001b[39;49m\u001b[43m:\u001b[49m\u001b[43m \u001b[49m\u001b[43mvalue\u001b[49m\u001b[43m}\u001b[49m\u001b[43m)\u001b[49m[\u001b[33m\"\u001b[39m\u001b[33mvalue\u001b[39m\u001b[33m\"\u001b[39m]\n",
      "\u001b[36mFile \u001b[39m\u001b[32mc:\\Users\\Administrator\\ghq\\github.com\\suime\\ex-autorun\\.venv\\Lib\\site-packages\\selenium\\webdriver\\remote\\webdriver.py:429\u001b[39m, in \u001b[36mWebDriver.execute\u001b[39m\u001b[34m(self, driver_command, params)\u001b[39m\n\u001b[32m    427\u001b[39m response = \u001b[38;5;28mself\u001b[39m.command_executor.execute(driver_command, params)\n\u001b[32m    428\u001b[39m \u001b[38;5;28;01mif\u001b[39;00m response:\n\u001b[32m--> \u001b[39m\u001b[32m429\u001b[39m     \u001b[38;5;28;43mself\u001b[39;49m\u001b[43m.\u001b[49m\u001b[43merror_handler\u001b[49m\u001b[43m.\u001b[49m\u001b[43mcheck_response\u001b[49m\u001b[43m(\u001b[49m\u001b[43mresponse\u001b[49m\u001b[43m)\u001b[49m\n\u001b[32m    430\u001b[39m     response[\u001b[33m\"\u001b[39m\u001b[33mvalue\u001b[39m\u001b[33m\"\u001b[39m] = \u001b[38;5;28mself\u001b[39m._unwrap_value(response.get(\u001b[33m\"\u001b[39m\u001b[33mvalue\u001b[39m\u001b[33m\"\u001b[39m, \u001b[38;5;28;01mNone\u001b[39;00m))\n\u001b[32m    431\u001b[39m     \u001b[38;5;28;01mreturn\u001b[39;00m response\n",
      "\u001b[36mFile \u001b[39m\u001b[32mc:\\Users\\Administrator\\ghq\\github.com\\suime\\ex-autorun\\.venv\\Lib\\site-packages\\selenium\\webdriver\\remote\\errorhandler.py:232\u001b[39m, in \u001b[36mErrorHandler.check_response\u001b[39m\u001b[34m(self, response)\u001b[39m\n\u001b[32m    230\u001b[39m         alert_text = value[\u001b[33m\"\u001b[39m\u001b[33malert\u001b[39m\u001b[33m\"\u001b[39m].get(\u001b[33m\"\u001b[39m\u001b[33mtext\u001b[39m\u001b[33m\"\u001b[39m)\n\u001b[32m    231\u001b[39m     \u001b[38;5;28;01mraise\u001b[39;00m exception_class(message, screen, stacktrace, alert_text)  \u001b[38;5;66;03m# type: ignore[call-arg]  # mypy is not smart enough here\u001b[39;00m\n\u001b[32m--> \u001b[39m\u001b[32m232\u001b[39m \u001b[38;5;28;01mraise\u001b[39;00m exception_class(message, screen, stacktrace)\n",
      "\u001b[31mNoSuchElementException\u001b[39m: Message: no such element: Unable to locate element: {\"method\":\"css selector\",\"selector\":\"input[placeholder='ex사번']\"}\n  (Session info: MicrosoftEdge=136.0.3240.50); For documentation on this error, please visit: https://www.selenium.dev/documentation/webdriver/troubleshooting/errors#no-such-element-exception\nStacktrace:\n\tGetHandleVerifier [0x00007FF79F7402E5+25029]\n\t(No symbol) [0x00007FF79F6952F0]\n\tMicrosoft::Applications::Events::EventProperty::to_string [0x00007FF79F9BD73A+1947706]\n\t(No symbol) [0x00007FF79F4B7D88]\n\t(No symbol) [0x00007FF79F4B804B]\n\t(No symbol) [0x00007FF79F4F8CA7]\n\t(No symbol) [0x00007FF79F4D90CF]\n\t(No symbol) [0x00007FF79F4AE15D]\n\t(No symbol) [0x00007FF79F4F6698]\n\t(No symbol) [0x00007FF79F4D8DF3]\n\t(No symbol) [0x00007FF79F4AD6A6]\n\t(No symbol) [0x00007FF79F4ACBB3]\n\t(No symbol) [0x00007FF79F4AD4D3]\n\t(No symbol) [0x00007FF79F5A638D]\n\t(No symbol) [0x00007FF79F5B3F2F]\n\t(No symbol) [0x00007FF79F5AC91F]\n\tMicrosoft::Applications::Events::EventProperty::to_string [0x00007FF79F8276EA+284650]\n\t(No symbol) [0x00007FF79F6A2C81]\n\t(No symbol) [0x00007FF79F69B724]\n\t(No symbol) [0x00007FF79F69B873]\n\t(No symbol) [0x00007FF79F68D4B6]\n\tBaseThreadInitThunk [0x00007FFE075A7374+20]\n\tRtlUserThreadStart [0x00007FFE095BCC91+33]\n"
     ]
    }
   ],
   "source": [
    "# 환경변수\n",
    "try:\n",
    "    ex_id = os.getenv(\"ex_id\")\n",
    "    pwd = os.getenv(\"pwd\")\n",
    "except:\n",
    "    raise ValueError(\"환경변수에서 아이디와 비번을 찾을 수 없습니다.\")\n",
    "\n",
    "# 로그인 시도 \n",
    "try:\n",
    "\n",
    "    id_input = driver.find_element(By.CSS_SELECTOR, \"input[placeholder='ex사번']\")\n",
    "    id_input.clear()\n",
    "    id_input.send_keys(ex_id)\n",
    "\n",
    "    pwd_input = driver.find_element(By.CSS_SELECTOR, \"input[placeholder='비밀번호를 입력해 주세요.']\")\n",
    "    pwd_input.clear()\n",
    "    pwd_input.send_keys(pwd)\n",
    "\n",
    "\n",
    "    login_btn = driver.find_element(By.CSS_SELECTOR, \"button[class='login-btn effect-1']\")\n",
    "    login_btn.click()\n",
    "except ValueError as e:\n",
    "    raise e(\"로그인 실패 : 아이디와 비번 확인하세요.\")\n"
   ]
  },
  {
   "cell_type": "code",
   "execution_count": 19,
   "metadata": {},
   "outputs": [],
   "source": [
    "try:\n",
    "    driver.get('https://lc.multicampus.com/ex/?#/me/lms')\n",
    "    # my_edu = driver.find_element(By.ID, \"menu_MENU202501151031615\")\n",
    "except:\n",
    "    raise ValueError(\"나의 학습이 없습니다.\")"
   ]
  },
  {
   "cell_type": "code",
   "execution_count": 37,
   "metadata": {},
   "outputs": [
    {
     "name": "stdout",
     "output_type": "stream",
     "text": [
      "[25년 2분기 법정필수] 통일교육 \t 2025/05/01 ~ 2025/06/30 온라인 1 시간 0학점\n",
      "[25년 2분기 법정필수] 4대폭력 예방교육 \t 2025/04/10 ~ 2025/06/30 온라인 4 시간 0학점\n",
      "[25년 상반기 법정필수] 산업안전보건교육 사무직 외 \t 2025/04/10 ~ 2025/06/30 온라인 12 시간 0학점\n"
     ]
    }
   ],
   "source": [
    "# 강의 불러오기 \n",
    "article = driver.find_element(By.CSS_SELECTOR, \"article[class='common-wrap']\")\n",
    "\n",
    "# def _get_list():\n",
    "\n",
    "for i in article.find_elements(By.CSS_SELECTOR, \"li\"):\n",
    "    print(i.text.splitlines()[0], '\\t', i.text.splitlines()[-5])\n",
    "    # i.click()\n"
   ]
  },
  {
   "cell_type": "code",
   "execution_count": null,
   "metadata": {},
   "outputs": [
    {
     "name": "stdout",
     "output_type": "stream",
     "text": [
      "[25년 2분기 법정필수] 통일교육\n",
      "By Multicampus\n",
      "2025/05/01 ~ 2025/06/30 온라인 1 시간 0학점\n",
      "최대 9999명\n",
      "학습확인증\n",
      "미수료\n",
      "학습하기\n",
      "[25년 2분기 법정필수] 4대폭력 예방교육\n",
      "By Multicampus\n",
      "4대 폭력 예방 바로 알기\n",
      "직장, 가정, 사회에서 빈번히 일어나는 \n",
      "성희롱, 성폭력, 성매매, 가정폭력에 대해 올바르게 알고 대처하자!\n",
      "2025/04/10 ~ 2025/06/30 온라인 4 시간 0학점\n",
      "최대 9999명\n",
      "학습확인증\n",
      "미수료\n",
      "학습하기\n",
      "[25년 상반기 법정필수] 산업안전보건교육 사무직 외\n",
      "By Multicampus\n",
      "산업분야 별 산업현장에 필요한 안전보건 지식을 전달하는\n",
      "국내최고 수준의 안전보건교육 콘텐츠를 제공합니다.\n",
      "2025/04/10 ~ 2025/06/30 온라인 12 시간 0학점\n",
      "최대 9999명\n",
      "학습확인증\n",
      "미수료\n",
      "학습하기\n"
     ]
    }
   ],
   "source": []
  }
 ],
 "metadata": {
  "kernelspec": {
   "display_name": ".venv",
   "language": "python",
   "name": "python3"
  },
  "language_info": {
   "codemirror_mode": {
    "name": "ipython",
    "version": 3
   },
   "file_extension": ".py",
   "mimetype": "text/x-python",
   "name": "python",
   "nbconvert_exporter": "python",
   "pygments_lexer": "ipython3",
   "version": "3.12.10"
  }
 },
 "nbformat": 4,
 "nbformat_minor": 2
}
