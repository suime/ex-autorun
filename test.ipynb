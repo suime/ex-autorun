{
 "cells": [
  {
   "cell_type": "markdown",
   "metadata": {},
   "source": [
    "# EX 강의 자동수강 프로그램\n",
    "\n",
    "- 버전 :\n",
    "- 멀티캠퍼스 :\n",
    "- 크롬 드라이버 버전 :\n"
   ]
  },
  {
   "cell_type": "code",
   "execution_count": 6,
   "metadata": {},
   "outputs": [],
   "source": [
    "import time\n",
    "import sys\n",
    "import os\n",
    "from selenium import webdriver\n",
    "from selenium.webdriver.common.by import By\n",
    "from selenium.webdriver.edge.service import Service\n",
    "from selenium.webdriver.edge.options import Options\n",
    "from selenium.webdriver.support.ui import WebDriverWait\n",
    "from webdriver_manager.microsoft import EdgeChromiumDriverManager\n",
    "\n",
    "\n",
    "def setup_driver(headless=False):\n",
    "    \"\"\"셀레니움 웹드라이버 설정\"\"\"\n",
    "    edge_options = Options()\n",
    "    if headless:\n",
    "        edge_options.add_argument(\"--headless\")\n",
    "    edge_options.add_argument(\"--no-sandbox\")\n",
    "    edge_options.add_argument(\"--disable-dev-shm-usage\")\n",
    "    edge_options.add_argument(\"--disable-notifications\")\n",
    "    edge_options.add_argument(\"--user-agent=Mozilla/5.0 (Windows NT 10.0; Win64; x64) AppleWebKit/537.36 (KHTML, like Gecko) Chrome/90.0.4430.212 Safari/537.36\")\n",
    "    \n",
    "    edge_bin_path = r\"C:\\Program Files (x86)\\Microsoft\\Edge\\Application\\msedge.exe\"\n",
    "\n",
    "    # edge driver : \"https://msedgedriver.azureedge.net/136.0.3240.50/edgedriver_win64.zip\"\n",
    "    edge_options.binary_location = edge_bin_path\n",
    "    driver_path = os.path.join(os.getenv(\"USERPROFILE\"), \".local\", \"driver\",\"msedgedriver.exe\")\n",
    "\n",
    "    service = Service(driver_path)\n",
    "    # service = Service(r\"C:\\Users\\dbro\\.cache\\selenium\\chromedriver\\win64\\135.0.7049.114\\chromedriver.exe\")\n",
    "    driver = webdriver.Chrome(service=service, options=edge_options)\n",
    "    return driver\n",
    "\n",
    "\n",
    "driver = setup_driver()"
   ]
  },
  {
   "cell_type": "code",
   "execution_count": 7,
   "metadata": {},
   "outputs": [],
   "source": [
    "# 수강 사이트 접속 \n",
    "url = \"https://lc.multicampus.com/ex/?#/home\"\n",
    "driver.get(url)"
   ]
  },
  {
   "cell_type": "code",
   "execution_count": null,
   "metadata": {},
   "outputs": [],
   "source": [
    "# 환경변수\n",
    "try:\n",
    "    ex_id = os.getenv(\"ex_id\")\n",
    "    pwd = os.getenv(\"pwd\")\n",
    "except:\n",
    "    raise ValueError(\"환경변수에서 아이디와 비번을 찾을 수 없습니다.\")\n",
    "\n",
    "# 로그인 시도 \n",
    "try:\n",
    "\n",
    "    id_input = driver.find_element(By.CSS_SELECTOR, \"input[placeholder='ex사번']\")\n",
    "    id_input.clear()\n",
    "    # id_input.send_keys(ex_id)\n",
    "\n",
    "    pwd_input = driver.find_element(By.CSS_SELECTOR, \"input[placeholder='비밀번호를 입력해 주세요.']\")\n",
    "    pwd_input.clear()\n",
    "    # pwd_input.send_keys(pwd)\n",
    "\n",
    "\n",
    "    login_btn = driver.find_element(By.CSS_SELECTOR, \"button[class='login-btn effect-1']\")\n",
    "    login_btn.click()\n",
    "except :\n",
    "    raise ValueError(\"로그인 실패 : 아이디와 비번 확인하세요.\")\n"
   ]
  },
  {
   "cell_type": "code",
   "execution_count": 12,
   "metadata": {},
   "outputs": [],
   "source": [
    "try:\n",
    "    driver.get('https://lc.multicampus.com/ex/?#/me/lms')\n",
    "    # my_edu = driver.find_element(By.ID, \"menu_MENU202501151031615\")\n",
    "    article = driver.find_element(By.CSS_SELECTOR, \"article[class='common-wrap']\")\n",
    "except:\n",
    "    raise ValueError(\"나의 학습이 없습니다.\")"
   ]
  }
 ],
 "metadata": {
  "kernelspec": {
   "display_name": ".venv",
   "language": "python",
   "name": "python3"
  },
  "language_info": {
   "codemirror_mode": {
    "name": "ipython",
    "version": 3
   },
   "file_extension": ".py",
   "mimetype": "text/x-python",
   "name": "python",
   "nbconvert_exporter": "python",
   "pygments_lexer": "ipython3",
   "version": "3.12.10"
  }
 },
 "nbformat": 4,
 "nbformat_minor": 2
}
