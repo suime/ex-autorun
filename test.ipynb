{
 "cells": [
  {
   "cell_type": "markdown",
   "metadata": {},
   "source": [
    "# EX 강의 자동수강 프로그램\n",
    "\n",
    "- 버전 :\n",
    "- 멀티캠퍼스 :\n",
    "- 크롬 드라이버 버전 :\n"
   ]
  },
  {
   "cell_type": "code",
   "execution_count": 11,
   "metadata": {},
   "outputs": [],
   "source": [
    "import sys\n",
    "import os\n",
    "from selenium import webdriver\n",
    "from selenium.webdriver.common.by import By\n",
    "from selenium.webdriver.edge.service import Service\n",
    "from selenium.webdriver.edge.options import Options\n",
    "from selenium.common.exceptions import WebDriverException\n",
    "\n",
    "\n",
    "def setup_driver(headless=False):\n",
    "    \"\"\"셀레니움 웹드라이버 설정\"\"\"\n",
    "    edge_options = Options()\n",
    "    if headless:\n",
    "        edge_options.add_argument(\"--headless\")\n",
    "    edge_options.add_argument(\"--no-sandbox\")\n",
    "    edge_options.add_argument(\"--disable-dev-shm-usage\")\n",
    "    edge_options.add_argument(\"--disable-notifications\")\n",
    "    edge_options.add_argument(\n",
    "        \"--user-agent=Mozilla/5.0 (Windows NT 10.0; Win64; x64) AppleWebKit/537.36 (KHTML, like Gecko) Chrome/90.0.4430.212 Safari/537.36\"\n",
    "    )\n",
    "\n",
    "    # 플랫폼 정보 받아오기\n",
    "\n",
    "    if sys.platform == \"darwin\":  # macOS\n",
    "        edge_bin_path = (\n",
    "            r\"/Applications/Microsoft Edge.app/Contents/MacOS/Microsoft Edge\"\n",
    "        )\n",
    "        driver_path = r\"/Users/daehyeon/.local/bin/msedgedriver\"\n",
    "        driver_path = os.path.join(os.getenv(\"HOME\"), \".local/bin/msedgedriver\")\n",
    "    else:  # Windows\n",
    "        edge_bin_path = r\"C:\\Program Files (x86)\\Microsoft\\Edge\\Application\\msedge.exe\"\n",
    "        driver_path = os.path.join(\n",
    "            os.getenv(\"USERPROFILE\"), \".local\", \"driver\", \"msedgedriver.exe\"\n",
    "        )\n",
    "\n",
    "    # edge driver : \"https://msedgedriver.azureedge.net/136.0.3240.50/edgedriver_win64.zip\"\n",
    "    # driver m1 : https://msedgedriver.azureedge.net/136.0.3240.50/edgedriver_mac64_m1.zip\n",
    "    edge_options.binary_location = edge_bin_path\n",
    "\n",
    "    service = Service(driver_path)\n",
    "    driver = webdriver.Edge(service=service, options=edge_options)\n",
    "    return driver\n",
    "\n",
    "\n",
    "driver = setup_driver()"
   ]
  },
  {
   "cell_type": "code",
   "execution_count": 12,
   "metadata": {},
   "outputs": [],
   "source": [
    "# 수강 사이트 접속\n",
    "url = \"https://lc.multicampus.com/ex/?#/home\"\n",
    "driver.get(url)"
   ]
  },
  {
   "cell_type": "code",
   "execution_count": null,
   "metadata": {},
   "outputs": [],
   "source": [
    "# 환경변수\n",
    "ex_id = os.getenv(\"ex_id\")\n",
    "ex_id = \"ex22298451\"\n",
    "pwd = os.getenv(\"pwd\")\n",
    "pwd = \"dhkfndlwl!23\"\n",
    "if not ex_id or not pwd:\n",
    "    raise ValueError(\"환경변수에서 아이디와 비번을 찾을 수 없습니다.\")\n",
    "\n",
    "# 로그인 시도\n",
    "try:\n",
    "    id_input = driver.find_element(By.CSS_SELECTOR, \"input[placeholder='ex사번']\")\n",
    "    id_input.clear()\n",
    "    id_input.send_keys(ex_id)\n",
    "\n",
    "    pwd_input = driver.find_element(\n",
    "        By.CSS_SELECTOR, \"input[placeholder='비밀번호를 입력해 주세요.']\"\n",
    "    )\n",
    "    pwd_input.clear()\n",
    "    pwd_input.send_keys(pwd)\n",
    "\n",
    "    login_btn = driver.find_element(\n",
    "        By.CSS_SELECTOR, \"button[class='login-btn effect-1']\"\n",
    "    )\n",
    "    login_btn.click()\n",
    "except:\n",
    "    raise ValueError(\"로그인 실패 : 아이디와 비번 확인하세요.\")\n"
   ]
  },
  {
   "cell_type": "code",
   "execution_count": 15,
   "metadata": {},
   "outputs": [],
   "source": [
    "try:\n",
    "    driver.get(\"https://lc.multicampus.com/ex/?#/me/lms\")\n",
    "    # my_edu = driver.find_element(By.ID, \"menu_MENU202501151031615\")\n",
    "except WebDriverException:\n",
    "    raise ValueError(\"나의 학습이 없습니다.\")"
   ]
  },
  {
   "cell_type": "code",
   "execution_count": 20,
   "metadata": {},
   "outputs": [
    {
     "name": "stdout",
     "output_type": "stream",
     "text": [
      "[25년 2분기 법정필수] 4대폭력 예방교육 \t 2025/04/10 ~ 2025/06/30 온라인 4 시간 0학점\n",
      "[25년 2분기 법정필수] 통일교육 \t 2025/05/01 ~ 2025/06/30 온라인 1 시간 0학점\n",
      "[25년 상반기 법정필수] 산업안전보건교육 사무직 외 \t 2025/04/10 ~ 2025/06/30 온라인 12 시간 0학점\n"
     ]
    }
   ],
   "source": [
    "# 강의 불러오기\n",
    "article = driver.find_element(By.CSS_SELECTOR, \"article[class='common-wrap']\")\n",
    "\n",
    "lms_list = []\n",
    "for i in article.find_elements(By.CSS_SELECTOR, \"li\"):\n",
    "    lms_list.append(i)\n",
    "    print(i.text.splitlines()[0], \"\\t\", i.text.splitlines()[-5])\n",
    "    # i.click()\n"
   ]
  },
  {
   "cell_type": "code",
   "execution_count": null,
   "metadata": {},
   "outputs": [],
   "source": []
  },
  {
   "cell_type": "code",
   "execution_count": 21,
   "metadata": {},
   "outputs": [
    {
     "data": {
      "text/plain": [
       "[('[25년 2분기 법정필수] 4대폭력 예방교육\\nBy Multicampus\\n4대 폭력 예방 바로 알기\\n직장, 가정, 사회에서 빈번히 일어나는 \\n성희롱, 성폭력, 성매매, 가정폭력에 대해 올바르게 알고 대처하자!\\n2025/04/10 ~ 2025/06/30 온라인 4 시간 0학점\\n최대 9999명\\n학습확인증\\n미수료\\n학습하기',\n",
       "  'f.B08E55CDEEAB53E9E18F73272D5FD9F5.d.85256760F06E050AD9FA48846F80F28E.e.218'),\n",
       " ('[25년 2분기 법정필수] 통일교육\\nBy Multicampus\\n2025/05/01 ~ 2025/06/30 온라인 1 시간 0학점\\n최대 9999명\\n학습확인증\\n미수료\\n학습하기',\n",
       "  'f.B08E55CDEEAB53E9E18F73272D5FD9F5.d.85256760F06E050AD9FA48846F80F28E.e.219'),\n",
       " ('[25년 상반기 법정필수] 산업안전보건교육 사무직 외\\nBy Multicampus\\n산업분야 별 산업현장에 필요한 안전보건 지식을 전달하는\\n국내최고 수준의 안전보건교육 콘텐츠를 제공합니다.\\n2025/04/10 ~ 2025/06/30 온라인 12 시간 0학점\\n최대 9999명\\n학습확인증\\n미수료\\n학습하기',\n",
       "  'f.B08E55CDEEAB53E9E18F73272D5FD9F5.d.85256760F06E050AD9FA48846F80F28E.e.220')]"
      ]
     },
     "execution_count": 21,
     "metadata": {},
     "output_type": "execute_result"
    }
   ],
   "source": [
    "lms_list"
   ]
  }
 ],
 "metadata": {
  "kernelspec": {
   "display_name": ".venv",
   "language": "python",
   "name": "python3"
  },
  "language_info": {
   "codemirror_mode": {
    "name": "ipython",
    "version": 3
   },
   "file_extension": ".py",
   "mimetype": "text/x-python",
   "name": "python",
   "nbconvert_exporter": "python",
   "pygments_lexer": "ipython3",
   "version": "3.12.10"
  }
 },
 "nbformat": 4,
 "nbformat_minor": 2
}
